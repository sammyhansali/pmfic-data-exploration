{
 "cells": [
  {
   "cell_type": "markdown",
   "id": "fe5c37bb",
   "metadata": {},
   "source": [
    "# Loading in data from neo"
   ]
  },
  {
   "cell_type": "code",
   "execution_count": 38,
   "id": "2463c855",
   "metadata": {},
   "outputs": [
    {
     "name": "stdout",
     "output_type": "stream",
     "text": [
      "shape: (10, 58)\n",
      "┌───────────┬───────────┬───────────┬───────────┬───┬───────────┬───────────┬───────────┬──────────┐\n",
      "│ Claim_No  ┆ Policy_Sy ┆ Policy_No ┆ Policy_Mo ┆ … ┆ Dataset_T ┆ Data_Thru ┆ Dataset_I ┆ Dataset_ │\n",
      "│ ---       ┆ mbol      ┆ ---       ┆ dule      ┆   ┆ hru_Date  ┆ _Date     ┆ d         ┆ Created  │\n",
      "│ str       ┆ ---       ┆ str       ┆ ---       ┆   ┆ ---       ┆ ---       ┆ ---       ┆ ---      │\n",
      "│           ┆ str       ┆           ┆ str       ┆   ┆ str       ┆ str       ┆ str       ┆ datetime │\n",
      "│           ┆           ┆           ┆           ┆   ┆           ┆           ┆           ┆ [μs]     │\n",
      "╞═══════════╪═══════════╪═══════════╪═══════════╪═══╪═══════════╪═══════════╪═══════════╪══════════╡\n",
      "│ 000000082 ┆ HP1       ┆ 2990869   ┆ 07        ┆ … ┆ 2006-03-3 ┆ 2006-03-3 ┆ 20230103. ┆ 2023-01- │\n",
      "│ 6         ┆           ┆           ┆           ┆   ┆ 1         ┆ 1         ┆ 112329    ┆ 06 09:07 │\n",
      "│           ┆           ┆           ┆           ┆   ┆           ┆           ┆           ┆ :58.367  │\n",
      "│ 000000082 ┆ HP1       ┆ 2990869   ┆ 07        ┆ … ┆ 2006-03-3 ┆ 2006-03-3 ┆ 20230103. ┆ 2023-01- │\n",
      "│ 6         ┆           ┆           ┆           ┆   ┆ 1         ┆ 1         ┆ 112329    ┆ 06 09:07 │\n",
      "│           ┆           ┆           ┆           ┆   ┆           ┆           ┆           ┆ :58.367  │\n",
      "│ 000000082 ┆ HP1       ┆ 2990869   ┆ 07        ┆ … ┆ 2006-03-3 ┆ 2006-03-3 ┆ 20230602. ┆ 2023-06- │\n",
      "│ 6         ┆           ┆           ┆           ┆   ┆ 1         ┆ 1         ┆ 072206    ┆ 02 08:54 │\n",
      "│           ┆           ┆           ┆           ┆   ┆           ┆           ┆           ┆ :17.367  │\n",
      "│ 000000082 ┆ HP1       ┆ 2990869   ┆ 07        ┆ … ┆ 2006-03-3 ┆ 2006-03-3 ┆ 20230602. ┆ 2023-06- │\n",
      "│ 6         ┆           ┆           ┆           ┆   ┆ 1         ┆ 1         ┆ 072206    ┆ 02 08:54 │\n",
      "│           ┆           ┆           ┆           ┆   ┆           ┆           ┆           ┆ :17.367  │\n",
      "│ 000000082 ┆ HP1       ┆ 2990869   ┆ 07        ┆ … ┆ 2006-04-3 ┆ 2006-04-3 ┆ 20230103. ┆ 2023-01- │\n",
      "│ 6         ┆           ┆           ┆           ┆   ┆ 0         ┆ 0         ┆ 112329    ┆ 06 09:07 │\n",
      "│           ┆           ┆           ┆           ┆   ┆           ┆           ┆           ┆ :58.367  │\n",
      "│ 000000082 ┆ HP1       ┆ 2990869   ┆ 07        ┆ … ┆ 2006-04-3 ┆ 2006-04-3 ┆ 20230103. ┆ 2023-01- │\n",
      "│ 6         ┆           ┆           ┆           ┆   ┆ 0         ┆ 0         ┆ 112329    ┆ 06 09:07 │\n",
      "│           ┆           ┆           ┆           ┆   ┆           ┆           ┆           ┆ :58.367  │\n",
      "│ 000000082 ┆ HP1       ┆ 2990869   ┆ 07        ┆ … ┆ 2006-04-3 ┆ 2006-04-3 ┆ 20230602. ┆ 2023-06- │\n",
      "│ 6         ┆           ┆           ┆           ┆   ┆ 0         ┆ 0         ┆ 072206    ┆ 02 08:54 │\n",
      "│           ┆           ┆           ┆           ┆   ┆           ┆           ┆           ┆ :17.367  │\n",
      "│ 000000082 ┆ HP1       ┆ 2990869   ┆ 07        ┆ … ┆ 2006-04-3 ┆ 2006-04-3 ┆ 20230602. ┆ 2023-06- │\n",
      "│ 6         ┆           ┆           ┆           ┆   ┆ 0         ┆ 0         ┆ 072206    ┆ 02 08:54 │\n",
      "│           ┆           ┆           ┆           ┆   ┆           ┆           ┆           ┆ :17.367  │\n",
      "│ 000000082 ┆ HP1       ┆ 2990869   ┆ 07        ┆ … ┆ 2006-05-3 ┆ 2006-05-3 ┆ 20230103. ┆ 2023-01- │\n",
      "│ 6         ┆           ┆           ┆           ┆   ┆ 1         ┆ 1         ┆ 112329    ┆ 06 09:07 │\n",
      "│           ┆           ┆           ┆           ┆   ┆           ┆           ┆           ┆ :58.367  │\n",
      "│ 000000082 ┆ HP1       ┆ 2990869   ┆ 07        ┆ … ┆ 2006-05-3 ┆ 2006-05-3 ┆ 20230103. ┆ 2023-01- │\n",
      "│ 6         ┆           ┆           ┆           ┆   ┆ 1         ┆ 1         ┆ 112329    ┆ 06 09:07 │\n",
      "│           ┆           ┆           ┆           ┆   ┆           ┆           ┆           ┆ :58.367  │\n",
      "└───────────┴───────────┴───────────┴───────────┴───┴───────────┴───────────┴───────────┴──────────┘\n"
     ]
    }
   ],
   "source": [
    "from sqlalchemy import create_engine, text\n",
    "from sqlalchemy.engine import URL\n",
    "import polars as pl\n",
    "\n",
    "# Server, DB, and auth details\n",
    "server = 'neo'\n",
    "database = 'Losses'\n",
    "username = 'PROVMUTUAL/SHansali'\n",
    "trusted_connection = True\n",
    "\n",
    "# Pyodbc driver connection details\n",
    "driver = 'SQL Server'\n",
    "# driver = 'ODBC Driver 17 for SQL Server'\n",
    "\n",
    "# Setting up connection and engine\n",
    "connection_string = f'DRIVER={driver};SERVER={server};DATABASE={database};UID={username};TRUSTED_CONNECTION={trusted_connection};'\n",
    "connection_url = URL.create(\n",
    "    'mssql+pyodbc', \n",
    "    query={'odbc_connect': connection_string},\n",
    ")\n",
    "engine = create_engine(connection_url, use_setinputsizes = False, echo = False)\n",
    "\n",
    "# Creating a polars DataFrame from a SQL query\n",
    "query = '''\n",
    "    SELECT TOP(10) *\n",
    "    FROM Losses.dbo.Losses_Accident_Months_Archives\n",
    "    '''\n",
    "df = pl.read_database(query, engine)\n",
    "print(df)"
   ]
  },
  {
   "cell_type": "markdown",
   "id": "edc7d8b1",
   "metadata": {},
   "source": [
    "# Exploring the data"
   ]
  },
  {
   "cell_type": "code",
   "execution_count": 40,
   "id": "49672c20",
   "metadata": {},
   "outputs": [
    {
     "data": {
      "text/plain": [
       "58"
      ]
     },
     "execution_count": 40,
     "metadata": {},
     "output_type": "execute_result"
    }
   ],
   "source": [
    "len(df.columns)"
   ]
  },
  {
   "cell_type": "code",
   "execution_count": 45,
   "id": "fc5988c1",
   "metadata": {},
   "outputs": [
    {
     "data": {
      "text/plain": [
       "['Claim_No',\n",
       " 'Policy_Symbol',\n",
       " 'Policy_No',\n",
       " 'Policy_Module',\n",
       " 'Ceded_Direct',\n",
       " 'Location_No',\n",
       " 'Unit_No',\n",
       " 'Time_Slice_Rollup_Group_Year',\n",
       " 'Time_Slice_Rollup_Group_Month',\n",
       " 'Time_Slice_Group',\n",
       " 'Rollup_Group',\n",
       " 'Loss_Date',\n",
       " 'Loss_Reported_Date',\n",
       " 'Policy_Effective_Date',\n",
       " 'Insured_Name',\n",
       " 'Agency_Id',\n",
       " 'Line_of_Business_Id',\n",
       " 'Line_of_Business',\n",
       " 'Unit_Location_Street',\n",
       " 'Unit_Location_City',\n",
       " 'Unit_Location_State_Id',\n",
       " 'Unit_Location_Zip_Code',\n",
       " 'Mailing_Address_Used_Flag',\n",
       " 'Policy_State_Id_ISO',\n",
       " 'Policy_State_Id',\n",
       " 'Loss_State_Id_ISO',\n",
       " 'Loss_State_Id',\n",
       " 'Cat_NonCat',\n",
       " 'Cat_Data_Source',\n",
       " 'Cat_Code',\n",
       " 'Cat_Used_for_Loss_Reserves_Flag',\n",
       " 'Cat_Used_for_Rate_Reviews_Flag',\n",
       " 'Annual_Statement_Line_No',\n",
       " 'Major_Peril_Id',\n",
       " 'Loss_Description_Id',\n",
       " 'Loss_Cause_Id',\n",
       " 'Loss_Coverage_Group',\n",
       " 'Claims',\n",
       " 'Reserve_thru_Slice',\n",
       " 'Loss_thru_Slice',\n",
       " 'ALAE_Expense_thru_Slice',\n",
       " 'ALAE_Recovery_thru_Slice',\n",
       " 'ULAE_Expense_thru_Slice',\n",
       " 'ULAE_Recovery_thru_Slice',\n",
       " 'Salvage_Recovery_Thru_Slice',\n",
       " 'Salvage_Distribution_Thru_Slice',\n",
       " 'Subrogation_Recovery_Thru_Slice',\n",
       " 'Subrogation_Distribution_Thru_Slice',\n",
       " 'Recovery_Payment_thru_Slice',\n",
       " 'Recovery_Deductible_thru_Slice',\n",
       " 'Dataset_Time_Slice_Type',\n",
       " 'Dataset_Rollup_Group',\n",
       " 'Dataset_Data_Source',\n",
       " 'Dataset_From_Date',\n",
       " 'Dataset_Thru_Date',\n",
       " 'Data_Thru_Date',\n",
       " 'Dataset_Id',\n",
       " 'Dataset_Created']"
      ]
     },
     "execution_count": 45,
     "metadata": {},
     "output_type": "execute_result"
    }
   ],
   "source": [
    "df.columns"
   ]
  },
  {
   "cell_type": "code",
   "execution_count": null,
   "id": "e9f42a49",
   "metadata": {},
   "outputs": [],
   "source": []
  }
 ],
 "metadata": {
  "kernelspec": {
   "display_name": "data-exploration",
   "language": "python",
   "name": "python3"
  },
  "language_info": {
   "codemirror_mode": {
    "name": "ipython",
    "version": 3
   },
   "file_extension": ".py",
   "mimetype": "text/x-python",
   "name": "python",
   "nbconvert_exporter": "python",
   "pygments_lexer": "ipython3",
   "version": "3.13.2"
  }
 },
 "nbformat": 4,
 "nbformat_minor": 5
}
